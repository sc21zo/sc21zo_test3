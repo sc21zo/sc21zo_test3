{
 "cells": [
  {
   "cell_type": "code",
   "execution_count": 11,
   "id": "602e9e25",
   "metadata": {},
   "outputs": [],
   "source": [
    "import random\n",
    "import os"
   ]
  },
  {
   "cell_type": "code",
   "execution_count": 12,
   "id": "5c515251",
   "metadata": {},
   "outputs": [],
   "source": [
    "label_txt_path='../open-image/validation/labels/'\n",
    "images=os.listdir(label_txt_path)\n",
    "images=[ i[:i.index('.txt')] for i in images ]"
   ]
  },
  {
   "cell_type": "code",
   "execution_count": 13,
   "id": "eb9c4753",
   "metadata": {},
   "outputs": [],
   "source": [
    "random.shuffle(images)\n",
    "random.shuffle(images)\n",
    "random.shuffle(images)\n",
    "random.shuffle(images)"
   ]
  },
  {
   "cell_type": "code",
   "execution_count": 14,
   "id": "19573a15",
   "metadata": {},
   "outputs": [
    {
     "data": {
      "text/plain": [
       "1254"
      ]
     },
     "execution_count": 14,
     "metadata": {},
     "output_type": "execute_result"
    }
   ],
   "source": [
    "#images=images[:int(len(images)*0.08)]\n",
    "len(images)"
   ]
  },
  {
   "cell_type": "code",
   "execution_count": 15,
   "id": "fdd87d81",
   "metadata": {},
   "outputs": [],
   "source": [
    "train_image=images[:int(len(images)*0.7)]\n",
    "val_image=images[int(len(images)*0.7):int(len(images)*0.9)]\n",
    "test_image=images[int(len(images)*0.9):]"
   ]
  },
  {
   "cell_type": "code",
   "execution_count": 16,
   "id": "81746c81",
   "metadata": {},
   "outputs": [],
   "source": [
    "a,b,c=map(len,[train_image,val_image,test_image])"
   ]
  },
  {
   "cell_type": "code",
   "execution_count": 18,
   "id": "fba34d1b",
   "metadata": {},
   "outputs": [],
   "source": [
    "img_path='./images/'\n",
    "with open('../open-image/train.txt','w') as t_f:\n",
    "    for img in train_image:\n",
    "        im_p=os.path.join(img_path,f'{img}.jpg')\n",
    "        t_f.write(im_p+'\\n')\n",
    "\n",
    "with open('../open-image/val.txt','w') as v_f:\n",
    "    for img in val_image:\n",
    "        im_p=os.path.join(img_path,f'{img}.jpg')\n",
    "        v_f.write(im_p+'\\n')\n",
    "        \n",
    "with open('../open-image/test.txt','w') as te_f:\n",
    "    for img in val_image:\n",
    "        im_p=os.path.join(img_path,f'{img}.jpg')\n",
    "        te_f.write(im_p+'\\n')"
   ]
  },
  {
   "cell_type": "code",
   "execution_count": null,
   "id": "976da245",
   "metadata": {},
   "outputs": [],
   "source": []
  }
 ],
 "metadata": {
  "kernelspec": {
   "display_name": "Python 3 (ipykernel)",
   "language": "python",
   "name": "python3"
  },
  "language_info": {
   "codemirror_mode": {
    "name": "ipython",
    "version": 3
   },
   "file_extension": ".py",
   "mimetype": "text/x-python",
   "name": "python",
   "nbconvert_exporter": "python",
   "pygments_lexer": "ipython3",
   "version": "3.9.7"
  }
 },
 "nbformat": 4,
 "nbformat_minor": 5
}
