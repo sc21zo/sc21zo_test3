{
 "cells": [
  {
   "cell_type": "code",
   "execution_count": 1,
   "id": "d97afa5a",
   "metadata": {},
   "outputs": [
    {
     "name": "stdout",
     "output_type": "stream",
     "text": [
      "\u001b[34m\u001b[1mval: \u001b[0mdata=./data/open-image.yaml, weights=['./yolov5_train/Ad_yolov5n/weights/best.pt'], batch_size=32, imgsz=640, conf_thres=0.001, iou_thres=0.5, task=val, device=, workers=8, single_cls=False, augment=False, verbose=False, save_txt=False, save_hybrid=False, save_conf=False, save_json=False, project=runs/val, name=Ad_yolov5n_test, exist_ok=False, half=False, dnn=False\n",
      "/home/amyang/anaconda3/lib/python3.9/site-packages/pkg_resources/__init__.py:123: PkgResourcesDeprecationWarning: 4.0.0-unsupported is an invalid version and will not be supported in a future release\n",
      "  warnings.warn(\n",
      "\u001b[31m\u001b[1mrequirements:\u001b[0m opencv-python>=4.1.1 not found and is required by YOLOv5, attempting auto-update...\n",
      "\u001b[31m\u001b[1mrequirements:\u001b[0m 'pip install opencv-python>=4.1.1' skipped (offline)\n",
      "YOLOv5 🚀 2022-7-5 Python-3.9.7 torch-1.12.0 CUDA:0 (NVIDIA A100-PCIE-40GB, 40536MiB)\n",
      "\n",
      "Fusing layers... \n",
      "Model summary: 213 layers, 2100121 parameters, 0 gradients, 5.2 GFLOPs\n",
      "\u001b[34m\u001b[1mval: \u001b[0mScanning '/home/amyang/notebook/oyzh/MSC/upload_dir/open-image/val' images \u001b[0m\n",
      "\u001b[34m\u001b[1mval: \u001b[0mNew cache created: /home/amyang/notebook/oyzh/MSC/upload_dir/open-image/val.cache\n",
      "               Class     Images     Labels          P          R     mAP@.5 mAP@\n",
      "                 all        501        809      0.702       0.61      0.666      0.471\n",
      "Speed: 0.2ms pre-process, 1.2ms inference, 2.3ms NMS per image at shape (32, 3, 640, 640)\n",
      "Results saved to \u001b[1mruns/val/Ad_yolov5n_test\u001b[0m\n",
      "CPU times: user 468 ms, sys: 93.2 ms, total: 561 ms\n",
      "Wall time: 31.5 s\n"
     ]
    }
   ],
   "source": [
    "%%time\n",
    "!python val.py --weights ./yolov5_train/Ad_yolov5n/weights/best.pt --data ./data/open-image.yaml --img 640 --iou 0.5 --name Ad_yolov5n_test"
   ]
  },
  {
   "cell_type": "code",
   "execution_count": 2,
   "id": "67d60d99",
   "metadata": {},
   "outputs": [
    {
     "name": "stdout",
     "output_type": "stream",
     "text": [
      "\u001b[34m\u001b[1mval: \u001b[0mdata=./data/open-image.yaml, weights=['./yolov5_train/Ad_yolov5s/weights/best.pt'], batch_size=32, imgsz=640, conf_thres=0.001, iou_thres=0.5, task=val, device=, workers=8, single_cls=False, augment=False, verbose=False, save_txt=False, save_hybrid=False, save_conf=False, save_json=False, project=runs/val, name=Ad_yolov5s_test, exist_ok=False, half=False, dnn=False\n",
      "/home/amyang/anaconda3/lib/python3.9/site-packages/pkg_resources/__init__.py:123: PkgResourcesDeprecationWarning: 4.0.0-unsupported is an invalid version and will not be supported in a future release\n",
      "  warnings.warn(\n",
      "\u001b[31m\u001b[1mrequirements:\u001b[0m opencv-python>=4.1.1 not found and is required by YOLOv5, attempting auto-update...\n",
      "\u001b[31m\u001b[1mrequirements:\u001b[0m 'pip install opencv-python>=4.1.1' skipped (offline)\n",
      "YOLOv5 🚀 2022-7-5 Python-3.9.7 torch-1.12.0 CUDA:0 (NVIDIA A100-PCIE-40GB, 40536MiB)\n",
      "\n",
      "Fusing layers... \n",
      "Model summary: 213 layers, 7689769 parameters, 0 gradients, 17.9 GFLOPs\n",
      "\u001b[34m\u001b[1mval: \u001b[0mScanning '/home/amyang/notebook/oyzh/MSC/upload_dir/open-image/val.cache' i\u001b[0m\n",
      "               Class     Images     Labels          P          R     mAP@.5 mAP@\n",
      "                 all        501        809      0.793      0.643       0.71      0.504\n",
      "Speed: 0.2ms pre-process, 1.3ms inference, 2.6ms NMS per image at shape (32, 3, 640, 640)\n",
      "Results saved to \u001b[1mruns/val/Ad_yolov5s_test\u001b[0m\n",
      "CPU times: user 468 ms, sys: 118 ms, total: 586 ms\n",
      "Wall time: 32.8 s\n"
     ]
    }
   ],
   "source": [
    "%%time\n",
    "!python val.py --weights ./yolov5_train/Ad_yolov5s/weights/best.pt --data ./data/open-image.yaml --img 640 --iou 0.5 --name Ad_yolov5s_test"
   ]
  },
  {
   "cell_type": "code",
   "execution_count": 3,
   "id": "9def0f11",
   "metadata": {},
   "outputs": [
    {
     "name": "stdout",
     "output_type": "stream",
     "text": [
      "\u001b[34m\u001b[1mval: \u001b[0mdata=./data/open-image.yaml, weights=['./yolov5_train/Ad_yolov5m/weights/best.pt'], batch_size=32, imgsz=640, conf_thres=0.001, iou_thres=0.5, task=val, device=, workers=8, single_cls=False, augment=False, verbose=False, save_txt=False, save_hybrid=False, save_conf=False, save_json=False, project=runs/val, name=Ad_yolov5m_test, exist_ok=False, half=False, dnn=False\n",
      "/home/amyang/anaconda3/lib/python3.9/site-packages/pkg_resources/__init__.py:123: PkgResourcesDeprecationWarning: 4.0.0-unsupported is an invalid version and will not be supported in a future release\n",
      "  warnings.warn(\n",
      "\u001b[31m\u001b[1mrequirements:\u001b[0m opencv-python>=4.1.1 not found and is required by YOLOv5, attempting auto-update...\n",
      "\u001b[31m\u001b[1mrequirements:\u001b[0m 'pip install opencv-python>=4.1.1' skipped (offline)\n",
      "YOLOv5 🚀 2022-7-5 Python-3.9.7 torch-1.12.0 CUDA:0 (NVIDIA A100-PCIE-40GB, 40536MiB)\n",
      "\n",
      "Fusing layers... \n",
      "Model summary: 290 layers, 21867225 parameters, 0 gradients, 51.1 GFLOPs\n",
      "\u001b[34m\u001b[1mval: \u001b[0mScanning '/home/amyang/notebook/oyzh/MSC/upload_dir/open-image/val.cache' i\u001b[0m\n",
      "               Class     Images     Labels          P          R     mAP@.5 mAP@\n",
      "                 all        501        796       0.88      0.707      0.769       0.69\n",
      "Speed: 0.2ms pre-process, 2.2ms inference, 2.4ms NMS per image at shape (32, 3, 640, 640)\n",
      "Results saved to \u001b[1mruns/val/Ad_yolov5m_test\u001b[0m\n",
      "CPU times: user 430 ms, sys: 106 ms, total: 536 ms\n",
      "Wall time: 32 s\n"
     ]
    }
   ],
   "source": [
    "%%time\n",
    "!python val.py --weights ./yolov5_train/Ad_yolov5m/weights/best.pt --data ./data/open-image.yaml --img 640 --iou 0.5 --name Ad_yolov5m_test"
   ]
  },
  {
   "cell_type": "code",
   "execution_count": null,
   "id": "ec1a81a0",
   "metadata": {},
   "outputs": [],
   "source": []
  }
 ],
 "metadata": {
  "kernelspec": {
   "display_name": "Python 3 (ipykernel)",
   "language": "python",
   "name": "python3"
  },
  "language_info": {
   "codemirror_mode": {
    "name": "ipython",
    "version": 3
   },
   "file_extension": ".py",
   "mimetype": "text/x-python",
   "name": "python",
   "nbconvert_exporter": "python",
   "pygments_lexer": "ipython3",
   "version": "3.9.7"
  }
 },
 "nbformat": 4,
 "nbformat_minor": 5
}
